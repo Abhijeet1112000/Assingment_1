{
 "cells": [
  {
   "cell_type": "markdown",
   "id": "2c303290",
   "metadata": {},
   "source": [
    "#    Name    :-  Abhijeet Sonawane. \n",
    "      Email        :- abhijeetshubhankar1112@gmail.com\n",
    "      Contact No.  :- +91 7768984104\n",
    "      Collage Name :- Sinhgad Collage Of Engineering ,Pune\n",
    "      "
   ]
  },
  {
   "cell_type": "markdown",
   "id": "cfc74eca",
   "metadata": {},
   "source": [
    "# Q.1: A company decided to give bonus of 5% to employee if his/her year of service is more than 5 years.Ask user for their salary and year of service and print the net bonus amount.\n",
    "\n",
    " "
   ]
  },
  {
   "cell_type": "code",
   "execution_count": 4,
   "id": "ad730a3b",
   "metadata": {},
   "outputs": [
    {
     "name": "stdout",
     "output_type": "stream",
     "text": [
      "Enter the Salary : 5000\n",
      "Enter the Year of service : 6\n",
      "Your net bonus amount :5250.0\n"
     ]
    }
   ],
   "source": [
    "sal=int(input(\"Enter the Salary : \"))\n",
    "time=int(input(\"Enter the Year of service : \"))\n",
    "if time>5:\n",
    "    bonus=(sal*0.05)\n",
    "    print(f\"Your net bonus amount :{sal+bonus}\")\n",
    "else:\n",
    "    print(\"Sorry you are not eligible for the bonus : \")"
   ]
  },
  {
   "cell_type": "markdown",
   "id": "f3d07946",
   "metadata": {},
   "source": [
    "# Q.2 : A school has following rules for grading system\n",
    "a. Below 25 - F\n",
    "b. 25 to 45 - E\n",
    "c. 45 to 50 - D\n",
    "d. 50 to 60 - C\n",
    "e. 60 to 80 - B\n",
    "f. Above 80 - A\n",
    "Ask user to enter marks and print the corresponding grade."
   ]
  },
  {
   "cell_type": "code",
   "execution_count": 10,
   "id": "15e82d84",
   "metadata": {},
   "outputs": [
    {
     "name": "stdout",
     "output_type": "stream",
     "text": [
      "Enter your marks : 60\n",
      "Your grade is : B\n"
     ]
    }
   ],
   "source": [
    "marks=int(input(\"Enter your marks : \"))\n",
    "if marks<25:\n",
    "    print(\"Your grade is : F\")\n",
    "elif 25<=marks<45:\n",
    "    print(\"Your grade is : E\")\n",
    "elif 45<=marks<50:\n",
    "    print(\"Your grade is : D\")\n",
    "elif 50<=marks<60:\n",
    "    print(\"Your grade is : C\")\n",
    "elif 60<=marks<80:\n",
    "    print(\"Your grade is : B\")\n",
    "elif marks>80:\n",
    "    print(\"Your grade is : A\")    \n",
    "    "
   ]
  },
  {
   "cell_type": "markdown",
   "id": "a671bcdc",
   "metadata": {},
   "source": [
    "# Q.3  A student will not be allowed to sit in exam if his/her attendence is less than 75%.Take following input from user Number of classes held Number of classes attended.And print percentage of class attended Is student is allowed to sit in exam or not \n",
    "\n",
    "\n",
    "\n",
    "\n",
    "\n"
   ]
  },
  {
   "cell_type": "code",
   "execution_count": 41,
   "id": "a4c490fc",
   "metadata": {},
   "outputs": [
    {
     "name": "stdout",
     "output_type": "stream",
     "text": [
      "Enter the number of classes held in this semester :100\n",
      "Enter the number of classes you have attended :85\n",
      "Your attendance is 85.0% \n",
      "Your allowed to sit for the exam\n"
     ]
    }
   ],
   "source": [
    "class_held=int(input(\"Enter the number of classes held in this semester :\"))\n",
    "class_attended=int(input(\"Enter the number of classes you have attended :\"))\n",
    "if class_attended < 0.75 * class_held:  \n",
    "    a= class_attended/100*class_held\n",
    "    print(f\"Your attendance is {a}% \\nThus your not allowed to sit in exam \")\n",
    "else:\n",
    "    b= class_attended/100*class_held\n",
    "    print(f\"Your attendance is {b}% \\nYour allowed to sit for the exam\")    \n",
    "    "
   ]
  },
  {
   "cell_type": "markdown",
   "id": "c95a6ef9",
   "metadata": {},
   "source": [
    "# Q.4 : Ask user to enter age, sex ( M or F ), marital status ( Y or N ) and then using following rules print their place of service.Following rules print their place of service.if employee is female, then she will work only in urban areas.if employee is a male and age is in between 20 to 40 then he may work in anywhere if employee is male and age is in between 40 t0 60 then he will work in urban areas only.And any other input of age should print \"ERROR\n"
   ]
  },
  {
   "cell_type": "code",
   "execution_count": 11,
   "id": "8ce08f20",
   "metadata": {},
   "outputs": [
    {
     "name": "stdout",
     "output_type": "stream",
     "text": [
      "Enter the age : no\n",
      "ERROR\n",
      "Enter the age (number) : 56\n",
      "Enter your sex (M or F) : m\n",
      "Enter your marital status (Y or N) : y\n",
      "\n",
      "You will work in Urban areas only \n"
     ]
    }
   ],
   "source": [
    "\n",
    "age=input(\"Enter the age : \")\n",
    "if age!=str:\n",
    "    print(\"ERROR\")\n",
    "    for i in range(2):\n",
    "        age=int(input(\"Enter the age (number) : \"))\n",
    "        if age != int:\n",
    "            break\n",
    "\n",
    "gender=input(\"Enter your sex (M or F) : \")\n",
    "gender=gender.casefold()\n",
    "\n",
    "marital_status=input(\"Enter your marital status (Y or N) : \")\n",
    "marital_status=marital_status.casefold()\n",
    "\n",
    "if gender==\"f\":\n",
    "    print(\"\\nYou will work in Urban areas only\")\n",
    "elif gender==\"m\" and 20<=age<=40:\n",
    "    print(\"\\nYou can work in Urban / Rural areas \")\n",
    "elif gender==\"m\" and 40<=age<=60:\n",
    "    print(\"\\nYou will work in Urban areas only \")\n",
    "else:\n",
    "    print(\"ERROR..!\")\n",
    "    "
   ]
  },
  {
   "cell_type": "markdown",
   "id": "ea4956ee",
   "metadata": {},
   "source": [
    "# Q.5 : Take 10 integers from keyboard using loop and print their average value on the screen.\n"
   ]
  },
  {
   "cell_type": "code",
   "execution_count": 67,
   "id": "af268d0d",
   "metadata": {},
   "outputs": [
    {
     "name": "stdout",
     "output_type": "stream",
     "text": [
      "Enter the 1 Number : 65\n",
      "Enter the 2 Number : 365\n",
      "Enter the 3 Number : 65\n",
      "Enter the 4 Number : 69\n",
      "Enter the 5 Number : 63\n",
      "Enter the 6 Number : 62\n",
      "Enter the 7 Number : 4\n",
      "Enter the 8 Number : 58\n",
      "Enter the 9 Number : 57\n",
      "Enter the 10 Number : 65\n",
      "87.3\n"
     ]
    }
   ],
   "source": [
    "num=[]\n",
    "\n",
    "for i in range(1,11):\n",
    "    elements = int(input(f\"Enter the {i} Number : \"))\n",
    "    num.append(elements)\n",
    "    \n",
    "total_sum =sum(num)     \n",
    "avg = total_sum / 10\n",
    "\n",
    "print(avg)\n",
    "    "
   ]
  },
  {
   "cell_type": "markdown",
   "id": "4119b197",
   "metadata": {},
   "source": [
    "# Q.6 : Write a program to calculate factorial of a number."
   ]
  },
  {
   "cell_type": "code",
   "execution_count": 5,
   "id": "0f95550d",
   "metadata": {
    "scrolled": true
   },
   "outputs": [
    {
     "name": "stdout",
     "output_type": "stream",
     "text": [
      "Enter the number : 5\n",
      "Factorial of the number is : 120\n"
     ]
    }
   ],
   "source": [
    "\n",
    "def factorial(num):\n",
    "    if num<0:\n",
    "        return 0\n",
    "    elif num==0 or num==1:\n",
    "        return 1\n",
    "    else:\n",
    "        fact=1\n",
    "        while num>1:\n",
    "            fact*=num\n",
    "            num=num-1\n",
    "        return fact\n",
    "        \n",
    "        \n",
    "num=int(input(\"Enter the number : \"))\n",
    "print(f\"Factorial of the number is : {factorial(num)}\")\n",
    "\n"
   ]
  },
  {
   "cell_type": "markdown",
   "id": "318e0594",
   "metadata": {},
   "source": [
    "# Q.7 :Take integer inputs from user until he/she presses q ( Ask to press q to quit after every integer input ). Print average and product of all numbers.\n"
   ]
  },
  {
   "cell_type": "code",
   "execution_count": 4,
   "id": "02112292",
   "metadata": {
    "scrolled": true
   },
   "outputs": [
    {
     "name": "stdout",
     "output_type": "stream",
     "text": [
      "Enter the numbers : 65\n",
      "Press Q to exit : w\n",
      "Enter the numbers : 85\n",
      "Press Q to exit : no\n",
      "Enter the numbers : 95\n",
      "Press Q to exit : sd\n",
      "Enter the numbers : 105\n",
      "Press Q to exit : q\n",
      "Average of the numbers is : 87.5\n",
      "Product of the numbers is : 55111875\n"
     ]
    }
   ],
   "source": [
    "num=[]\n",
    "\n",
    "def avg(num):\n",
    "    average=sum(num) / len(num)\n",
    "    return average\n",
    "\n",
    "def prod(num):\n",
    "    result=1\n",
    "    for i in num:\n",
    "        result= result * i\n",
    "        \n",
    "    return result\n",
    "\n",
    "while True:\n",
    "    a=int(input(\"Enter the numbers : \"))\n",
    "    num.append(a)\n",
    "    b=input(\"Press Q to exit : \")\n",
    "    b.casefold()\n",
    "    if b==\"q\":\n",
    "        break\n",
    "        \n",
    "d= avg(num)\n",
    "\n",
    "e=prod(num)\n",
    "        \n",
    "print(f\"Average of the numbers is : {d}\")\n",
    "\n",
    "print(f\"Product of the numbers is : {e}\")"
   ]
  },
  {
   "cell_type": "markdown",
   "id": "7ee4148c",
   "metadata": {},
   "source": [
    "\n",
    "# Q.8 :  A three digit number is called Armstrong number if sum of cube of its digit is equal to number itself. E.g.- 153 is an Armstrong number because (1^3)+(5^3)+(3^3)=153. Write all Armstrong numbers between 100 to 500.\n"
   ]
  },
  {
   "cell_type": "code",
   "execution_count": null,
   "id": "c9971df9",
   "metadata": {
    "scrolled": true
   },
   "outputs": [],
   "source": []
  },
  {
   "cell_type": "markdown",
   "id": "ff15630a",
   "metadata": {},
   "source": [
    "# Q.9 : Write a program to find the length of the string \"refrigerator\" without using len function.\n"
   ]
  },
  {
   "cell_type": "code",
   "execution_count": 87,
   "id": "f464d2d6",
   "metadata": {},
   "outputs": [
    {
     "name": "stdout",
     "output_type": "stream",
     "text": [
      "12\n"
     ]
    }
   ],
   "source": [
    "string=\"refrigerator\"\n",
    "pointer=0\n",
    "for i in string:\n",
    "    pointer=pointer+1\n",
    "print(pointer)    "
   ]
  },
  {
   "cell_type": "markdown",
   "id": "fda20cd2",
   "metadata": {},
   "source": [
    "# Q.10 : Write a program that takes your full name as input and displays the abbreviations of the first and middle names except the last name which is displayed as it is. For example, if your name is Robert Brett Roser, then the output should be R.B.Roser.\n",
    "\n"
   ]
  },
  {
   "cell_type": "code",
   "execution_count": 3,
   "id": "ed0ca461",
   "metadata": {},
   "outputs": [
    {
     "name": "stdout",
     "output_type": "stream",
     "text": [
      "Enter your First name : Robert\n",
      "Enter your middle name : brett\n",
      "Enter your last name : roser\n",
      "Your name is : R.B.Roser.\n"
     ]
    }
   ],
   "source": [
    "name=[]\n",
    "\n",
    "first_name=input(\"Enter your First name : \")\n",
    "a=first_name.upper()\n",
    "name.append(a)\n",
    "middle_name=input(\"Enter your middle name : \")\n",
    "b=middle_name\n",
    "b=b.upper()\n",
    "name.append(b)\n",
    "last_name=input(\"Enter your last name : \")\n",
    "last_name=last_name.capitalize()\n",
    "name.append(last_name)\n",
    "\n",
    "x=name[0][0]\n",
    "y=name[1][0]\n",
    "z=name[2]\n",
    "\n",
    "print(f\"Your name is : {x}.{y}.{z}.\")"
   ]
  }
 ],
 "metadata": {
  "kernelspec": {
   "display_name": "Python 3",
   "language": "python",
   "name": "python3"
  },
  "language_info": {
   "codemirror_mode": {
    "name": "ipython",
    "version": 3
   },
   "file_extension": ".py",
   "mimetype": "text/x-python",
   "name": "python",
   "nbconvert_exporter": "python",
   "pygments_lexer": "ipython3",
   "version": "3.8.8"
  }
 },
 "nbformat": 4,
 "nbformat_minor": 5
}
